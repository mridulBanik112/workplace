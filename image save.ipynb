{
 "cells": [
  {
   "cell_type": "code",
   "execution_count": 4,
   "metadata": {},
   "outputs": [],
   "source": [
    "import cv2\n",
    "import matplotlib.pyplot as plt\n",
    "import numpy as np\n",
    "import os"
   ]
  },
  {
   "cell_type": "code",
   "execution_count": 45,
   "metadata": {},
   "outputs": [],
   "source": [
    "\n",
    "imgs_name = os.listdir('main_img/')\n",
    "path = 'test/'\n",
    "\n",
    "for img_name in imgs_name:\n",
    "    img =  cv2.imread('main_img/'+img_name)\n",
    "    img \n",
    "    gray = cv2.cvtColor(img,cv2.COLOR_BGR2GRAY)\n",
    "\n",
    "    if not os.path.exists(path+img_name):\n",
    "        os.makedirs(path+img_name)\n",
    "    # inverse thresholding\n",
    "    thresh = cv2.threshold(gray, 195, 255, cv2.THRESH_BINARY_INV)[1]\n",
    "\n",
    "    # find contours\n",
    "    contours = cv2.findContours(thresh, cv2.RETR_EXTERNAL, cv2.CHAIN_APPROX_SIMPLE)[0]\n",
    "\n",
    "    mask = np.ones(img.shape[:2], dtype=\"uint8\") * 255\n",
    "    i = 0\n",
    "    for c in contours:\n",
    "        i+=1\n",
    "        # get the bounding rect\n",
    "        x, y, w, h = cv2.boundingRect(c)\n",
    "        if w*h>900:\n",
    "    #         cv2.rectangle(mask, (x, y), (x+w, y+h), (0, 0, 255), -1)\n",
    "            cv2.imwrite(path+img_name+'/'+str(i)+'.png', img[y:y+h, x:x+w])"
   ]
  },
  {
   "cell_type": "code",
   "execution_count": 27,
   "metadata": {},
   "outputs": [],
   "source": [
    "img1  =  cv2.imread('main_img/1 (20).jpg')\n",
    "img_name = '1 (20).jpg'\n",
    "img = cv2.imread('main_img/1 (20).jpg')\n",
    "img[img !=255] = 0\n",
    "\n",
    "# cv2.imshow('ImageWindow', img)\n",
    "# cv2.waitKey()\n",
    "\n",
    "def fit_to_size(thresh1):\n",
    "    # removing any extra option from image\n",
    "    # Checking the extra pixel in mask variable\n",
    "    image = thresh1\n",
    "    image = cv2.cvtColor(image,cv2.COLOR_BGR2GRAY)\n",
    "    _, image = cv2.threshold(image, 127, 255, cv2.THRESH_BINARY_INV | cv2.THRESH_OTSU)\n",
    "    mask = image > 0\n",
    "    coords = np.argwhere(mask)\n",
    "\n",
    "    x0, y0 = coords.min(axis=0)\n",
    "    x1, y1 = coords.max(axis=0)\n",
    "    # Cropping the main image\n",
    "    cropped = thresh1[x0:x1, y0:y1]\n",
    "    return cropped\n",
    "\n",
    "gray = cv2.cvtColor(img,cv2.COLOR_BGR2GRAY)\n",
    "path = 'test/'\n",
    "if not os.path.exists(path+img_name):\n",
    "    os.makedirs(path+img_name)\n",
    "    \n",
    "# inverse thresholding\n",
    "thresh = cv2.threshold(gray, 195, 255, cv2.THRESH_BINARY_INV)[1]\n",
    "\n",
    "# find contours\n",
    "contours = cv2.findContours(thresh, cv2.RETR_EXTERNAL, cv2.CHAIN_APPROX_SIMPLE)[0]\n",
    "\n",
    "# mask = np.ones(img.shape[:2], dtype=\"uint8\") * 255\n",
    "i = 0\n",
    "for c in contours:\n",
    "    i+=1\n",
    "    # get the bounding rect\n",
    "    x, y, w, h = cv2.boundingRect(c)\n",
    "    if w*h>1000:\n",
    "#         cv2.rectangle(mask, (x, y), (x+w, y+h), (0, 0, 255), -1)\n",
    "        t = fit_to_size(img1[y:y+h, x:x+w])\n",
    "        cv2.imwrite(path+img_name+'/'+str(i)+'.png', t)"
   ]
  },
  {
   "cell_type": "code",
   "execution_count": null,
   "metadata": {},
   "outputs": [],
   "source": []
  }
 ],
 "metadata": {
  "kernelspec": {
   "display_name": "Python 3",
   "language": "python",
   "name": "python3"
  },
  "language_info": {
   "codemirror_mode": {
    "name": "ipython",
    "version": 3
   },
   "file_extension": ".py",
   "mimetype": "text/x-python",
   "name": "python",
   "nbconvert_exporter": "python",
   "pygments_lexer": "ipython3",
   "version": "3.7.6"
  }
 },
 "nbformat": 4,
 "nbformat_minor": 4
}
