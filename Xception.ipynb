{
  "nbformat": 4,
  "nbformat_minor": 0,
  "metadata": {
    "colab": {
      "name": "Xception.ipynb",
      "provenance": [],
      "collapsed_sections": []
    },
    "kernelspec": {
      "name": "python3",
      "display_name": "Python 3"
    },
    "accelerator": "GPU"
  },
  "cells": [
    {
      "cell_type": "code",
      "metadata": {
        "colab": {
          "base_uri": "https://localhost:8080/"
        },
        "id": "dXp6FOHPgod5",
        "outputId": "8f26a6e8-4413-4ff1-99ab-105136409eef"
      },
      "source": [
        "from google.colab import drive\r\n",
        "drive.mount('/content/drive')"
      ],
      "execution_count": null,
      "outputs": [
        {
          "output_type": "stream",
          "text": [
            "Mounted at /content/drive\n"
          ],
          "name": "stdout"
        }
      ]
    },
    {
      "cell_type": "code",
      "metadata": {
        "id": "x6j_L5QDEGMS"
      },
      "source": [
        "import numpy as np\n",
        "import matplotlib.pyplot as plt\n",
        "import keras\n",
        "from keras.layers import *\n",
        "from keras.models import * \n",
        "from keras.preprocessing import image\n",
        "from keras.models import Sequential\n",
        "# To initialize neural network\n",
        "from keras.layers import Convolution2D\n",
        "# Images are two dimensional, concolution step\n",
        "from keras.layers import MaxPooling2D\n",
        "# Pooling step\n",
        "from keras.layers import Flatten\n",
        "# Convert pools feature map into this large feature vector\n",
        "from keras.layers import Dense\n",
        "#To add fully connected layers\n",
        "from keras.preprocessing.image import ImageDataGenerator\n",
        "from keras.applications.vgg16 import decode_predictions\n",
        "from keras.applications.xception import Xception\n",
        "#from keras.applications.InceptionResNetV2 import InceptionResNetV2\n",
        "from keras import applications\n",
        "from keras.layers import Dropout, Flatten, Dense\n",
        "from keras import applications\n",
        "from keras.preprocessing.image import ImageDataGenerator\n",
        "from keras import optimizers\n",
        "from keras.models import Sequential\n",
        "from keras.layers import Dropout, Flatten, Dense\n",
        "from keras.models import Sequential\n",
        "# To initialize neural network\n",
        "from keras.layers import Convolution2D\n",
        "# Images are two dimensional, concolution step\n",
        "from keras.layers import MaxPooling2D\n",
        "# Pooling step\n",
        "from keras.layers import Flatten\n",
        "# Convert pools feature map into this large feature vector\n",
        "from keras.layers import Dense\n",
        "#To add fully connected layers\n",
        "from keras.preprocessing.image import ImageDataGenerator\n",
        "# from keras.applications.resnet50 import ResNet50\n",
        "from keras.applications import resnet50\n",
        "from keras.models import Model\n",
        "import keras"
      ],
      "execution_count": null,
      "outputs": []
    },
    {
      "cell_type": "code",
      "metadata": {
        "id": "S3eJmOw5gnVS"
      },
      "source": [
        ""
      ],
      "execution_count": null,
      "outputs": []
    },
    {
      "cell_type": "code",
      "metadata": {
        "id": "pVE_f3ThElc1",
        "colab": {
          "base_uri": "https://localhost:8080/",
          "height": 52
        },
        "outputId": "ba2ec2d3-d99b-485d-9f69-097a6f6fa523"
      },
      "source": [
        "\n",
        "IMAGE_SIZE = 300\n",
        "pretrained_model = applications.VGG16(input_shape=(300,300, 3), include_top=False)\n",
        "pretrained_model.trainable = False\n",
        "\n",
        "model = Sequential([\n",
        "    pretrained_model,\n",
        "    Flatten(),\n",
        "    Dense(2, activation='softmax')\n",
        "])"
      ],
      "execution_count": null,
      "outputs": [
        {
          "output_type": "stream",
          "text": [
            "Downloading data from https://storage.googleapis.com/tensorflow/keras-applications/vgg16/vgg16_weights_tf_dim_ordering_tf_kernels_notop.h5\n",
            "58892288/58889256 [==============================] - 3s 0us/step\n"
          ],
          "name": "stdout"
        }
      ]
    },
    {
      "cell_type": "code",
      "metadata": {
        "colab": {
          "base_uri": "https://localhost:8080/"
        },
        "id": "4nlRwPUZg4jo",
        "outputId": "c86beb34-fabd-463a-a364-ad269a995cee"
      },
      "source": [
        "IMAGE_SIZE = 224\r\n",
        "pretrained_model =applications.Xception(input_shape=(300,300, 3), include_top=False)\r\n",
        "pretrained_model.trainable = False\r\n",
        "\r\n",
        "model = Sequential([\r\n",
        "    pretrained_model,\r\n",
        "    Flatten(),\r\n",
        "    Dense(2, activation='softmax')\r\n",
        "])"
      ],
      "execution_count": null,
      "outputs": [
        {
          "output_type": "stream",
          "text": [
            "Downloading data from https://storage.googleapis.com/tensorflow/keras-applications/xception/xception_weights_tf_dim_ordering_tf_kernels_notop.h5\n",
            "83689472/83683744 [==============================] - 0s 0us/step\n"
          ],
          "name": "stdout"
        }
      ]
    },
    {
      "cell_type": "code",
      "metadata": {
        "id": "SZ5HWqrpEuhl"
      },
      "source": [
        "model.compile(loss=keras.losses.categorical_crossentropy,optimizer='adam',metrics=['accuracy'])"
      ],
      "execution_count": null,
      "outputs": []
    },
    {
      "cell_type": "code",
      "metadata": {
        "id": "wp0fgQuHEzbm"
      },
      "source": [
        "# Train from scratch\n",
        "train_datagen = image.ImageDataGenerator(\n",
        "    rescale = 1./255,\n",
        "    shear_range = 0.2,\n",
        "    zoom_range = 0.2,\n",
        "    horizontal_flip = True,\n",
        ")\n",
        "\n",
        "test_dataset = image.ImageDataGenerator(rescale=1./255)"
      ],
      "execution_count": null,
      "outputs": []
    },
    {
      "cell_type": "code",
      "metadata": {
        "id": "TbpDsVKnE2ur",
        "colab": {
          "base_uri": "https://localhost:8080/"
        },
        "outputId": "3ab878cd-1748-40f7-a0a0-9842b32a94c6"
      },
      "source": [
        "train_generator = train_datagen.flow_from_directory(\n",
        "    '/content/drive/MyDrive/imagesdata-20201224T162256Z-001.zip (Unzipped Files)/imagesdata/train',\n",
        "    target_size = (300,300),\n",
        "    batch_size = 32,\n",
        "    class_mode = 'categorical')\n"
      ],
      "execution_count": null,
      "outputs": [
        {
          "output_type": "stream",
          "text": [
            "Found 1853 images belonging to 2 classes.\n"
          ],
          "name": "stdout"
        }
      ]
    },
    {
      "cell_type": "code",
      "metadata": {
        "id": "nddd6fhCE9hj",
        "colab": {
          "base_uri": "https://localhost:8080/"
        },
        "outputId": "5bb18bd2-13a0-475b-cc1e-26ae9e5b5c89"
      },
      "source": [
        "validation_generator = test_dataset.flow_from_directory(\n",
        "    '/content/drive/MyDrive/imagesdata-20201224T162256Z-001.zip (Unzipped Files)/imagesdata/test',\n",
        "    target_size = (300,300),\n",
        "    batch_size = 32,\n",
        "    class_mode = 'categorical',\n",
        "    shuffle = False)"
      ],
      "execution_count": null,
      "outputs": [
        {
          "output_type": "stream",
          "text": [
            "Found 241 images belonging to 2 classes.\n"
          ],
          "name": "stdout"
        }
      ]
    },
    {
      "cell_type": "code",
      "metadata": {
        "id": "emHKjxcpEzaM",
        "colab": {
          "base_uri": "https://localhost:8080/"
        },
        "outputId": "cdb62b9f-a5ea-4839-86a5-dfb1ad7d12c4"
      },
      "source": [
        "hist = model.fit_generator(\n",
        "    train_generator,\n",
        "    steps_per_epoch=4,\n",
        "    epochs = 30,\n",
        "    validation_data = validation_generator,\n",
        "    validation_steps=None\n",
        ")"
      ],
      "execution_count": null,
      "outputs": [
        {
          "output_type": "stream",
          "text": [
            "/usr/local/lib/python3.6/dist-packages/tensorflow/python/keras/engine/training.py:1844: UserWarning: `Model.fit_generator` is deprecated and will be removed in a future version. Please use `Model.fit`, which supports generators.\n",
            "  warnings.warn('`Model.fit_generator` is deprecated and '\n"
          ],
          "name": "stderr"
        },
        {
          "output_type": "stream",
          "text": [
            "Epoch 1/30\n",
            "4/4 [==============================] - 90s 24s/step - loss: 4.7210 - accuracy: 0.5281 - val_loss: 2.8095 - val_accuracy: 0.7095\n",
            "Epoch 2/30\n",
            "4/4 [==============================] - 37s 9s/step - loss: 4.5561 - accuracy: 0.6302 - val_loss: 11.0651 - val_accuracy: 0.3278\n",
            "Epoch 3/30\n",
            "4/4 [==============================] - 35s 9s/step - loss: 2.1783 - accuracy: 0.7365 - val_loss: 5.8621 - val_accuracy: 0.4191\n",
            "Epoch 4/30\n",
            "4/4 [==============================] - 33s 8s/step - loss: 2.9810 - accuracy: 0.7249 - val_loss: 9.0755 - val_accuracy: 0.3568\n",
            "Epoch 5/30\n",
            "4/4 [==============================] - 29s 8s/step - loss: 1.9367 - accuracy: 0.7354 - val_loss: 5.3666 - val_accuracy: 0.4647\n",
            "Epoch 6/30\n",
            "4/4 [==============================] - 29s 8s/step - loss: 1.6590 - accuracy: 0.8385 - val_loss: 15.0187 - val_accuracy: 0.2988\n",
            "Epoch 7/30\n",
            "4/4 [==============================] - 26s 7s/step - loss: 1.3128 - accuracy: 0.8753 - val_loss: 5.6493 - val_accuracy: 0.4813\n",
            "Epoch 8/30\n",
            "4/4 [==============================] - 25s 7s/step - loss: 1.4731 - accuracy: 0.7615 - val_loss: 10.9106 - val_accuracy: 0.3237\n",
            "Epoch 9/30\n",
            "4/4 [==============================] - 23s 6s/step - loss: 1.0619 - accuracy: 0.9031 - val_loss: 6.3187 - val_accuracy: 0.4730\n",
            "Epoch 10/30\n",
            "4/4 [==============================] - 19s 4s/step - loss: 0.7303 - accuracy: 0.8167 - val_loss: 9.8301 - val_accuracy: 0.3278\n",
            "Epoch 11/30\n",
            "4/4 [==============================] - 21s 5s/step - loss: 1.0294 - accuracy: 0.8635 - val_loss: 6.4434 - val_accuracy: 0.4606\n",
            "Epoch 12/30\n",
            "4/4 [==============================] - 18s 5s/step - loss: 0.3779 - accuracy: 0.8885 - val_loss: 8.4074 - val_accuracy: 0.3485\n",
            "Epoch 13/30\n",
            "4/4 [==============================] - 19s 5s/step - loss: 0.6387 - accuracy: 0.8615 - val_loss: 5.5771 - val_accuracy: 0.5270\n",
            "Epoch 14/30\n",
            "4/4 [==============================] - 18s 4s/step - loss: 0.9382 - accuracy: 0.8396 - val_loss: 8.6920 - val_accuracy: 0.3527\n",
            "Epoch 15/30\n",
            "4/4 [==============================] - 13s 3s/step - loss: 1.0820 - accuracy: 0.8521 - val_loss: 7.2351 - val_accuracy: 0.4191\n",
            "Epoch 16/30\n",
            "4/4 [==============================] - 13s 3s/step - loss: 0.8021 - accuracy: 0.8438 - val_loss: 9.3696 - val_accuracy: 0.3610\n",
            "Epoch 17/30\n",
            "4/4 [==============================] - 13s 4s/step - loss: 0.9986 - accuracy: 0.8427 - val_loss: 7.8426 - val_accuracy: 0.3900\n",
            "Epoch 18/30\n",
            "4/4 [==============================] - 12s 3s/step - loss: 0.7117 - accuracy: 0.9031 - val_loss: 10.5835 - val_accuracy: 0.3444\n",
            "Epoch 19/30\n",
            "4/4 [==============================] - 12s 3s/step - loss: 0.9768 - accuracy: 0.8656 - val_loss: 5.6597 - val_accuracy: 0.5187\n",
            "Epoch 20/30\n",
            "4/4 [==============================] - 12s 3s/step - loss: 1.0649 - accuracy: 0.8792 - val_loss: 8.6631 - val_accuracy: 0.3651\n",
            "Epoch 21/30\n",
            "4/4 [==============================] - 12s 4s/step - loss: 0.7386 - accuracy: 0.8823 - val_loss: 5.4418 - val_accuracy: 0.5394\n",
            "Epoch 22/30\n",
            "4/4 [==============================] - 11s 3s/step - loss: 0.7933 - accuracy: 0.8604 - val_loss: 10.0674 - val_accuracy: 0.3568\n",
            "Epoch 23/30\n",
            "4/4 [==============================] - 11s 3s/step - loss: 1.8542 - accuracy: 0.7979 - val_loss: 4.4356 - val_accuracy: 0.6390\n",
            "Epoch 24/30\n",
            "4/4 [==============================] - 10s 2s/step - loss: 1.0158 - accuracy: 0.8135 - val_loss: 7.8317 - val_accuracy: 0.4440\n",
            "Epoch 25/30\n",
            "4/4 [==============================] - 10s 3s/step - loss: 1.1264 - accuracy: 0.8562 - val_loss: 4.9604 - val_accuracy: 0.6598\n",
            "Epoch 26/30\n",
            "4/4 [==============================] - 9s 3s/step - loss: 1.4273 - accuracy: 0.8583 - val_loss: 8.3251 - val_accuracy: 0.4357\n",
            "Epoch 27/30\n",
            "4/4 [==============================] - 9s 3s/step - loss: 1.4669 - accuracy: 0.8594 - val_loss: 5.8332 - val_accuracy: 0.5643\n",
            "Epoch 28/30\n",
            "4/4 [==============================] - 8s 2s/step - loss: 1.2056 - accuracy: 0.8552 - val_loss: 9.1563 - val_accuracy: 0.4315\n",
            "Epoch 29/30\n",
            "4/4 [==============================] - 8s 2s/step - loss: 1.3348 - accuracy: 0.8406 - val_loss: 7.7932 - val_accuracy: 0.5062\n",
            "Epoch 30/30\n",
            "4/4 [==============================] - 10s 3s/step - loss: 0.9225 - accuracy: 0.8646 - val_loss: 6.8961 - val_accuracy: 0.5768\n"
          ],
          "name": "stdout"
        }
      ]
    },
    {
      "cell_type": "markdown",
      "metadata": {
        "id": "nJYFAdzk4lm5"
      },
      "source": [
        "**Model Image**"
      ]
    },
    {
      "cell_type": "code",
      "metadata": {
        "id": "O-3Bt6U635fE",
        "colab": {
          "base_uri": "https://localhost:8080/",
          "height": 369
        },
        "outputId": "2de3f22e-aa06-4843-8fda-d1441bf444cb"
      },
      "source": [
        "from tensorflow.keras.utils import plot_model\n",
        "plot_model(model, to_file='xray-unceptionv3.png')"
      ],
      "execution_count": null,
      "outputs": [
        {
          "output_type": "execute_result",
          "data": {
            "image/png": "[encoded data removed]",
            "text/plain": [
              "<IPython.core.display.Image object>"
            ]
          },
          "metadata": {
            "tags": []
          },
          "execution_count": 14
        }
      ]
    },
    {
      "cell_type": "markdown",
      "metadata": {
        "id": "QdyyBm8j4q33"
      },
      "source": [
        "**Model Summary**"
      ]
    },
    {
      "cell_type": "code",
      "metadata": {
        "id": "O68E3Rty4IfD",
        "colab": {
          "base_uri": "https://localhost:8080/"
        },
        "outputId": "8ba08203-80a2-4b31-9f31-229178128ed6"
      },
      "source": [
        "model.summary()"
      ],
      "execution_count": null,
      "outputs": [
        {
          "output_type": "stream",
          "text": [
            "Model: \"sequential\"\n",
            "_________________________________________________________________\n",
            "Layer (type)                 Output Shape              Param #   \n",
            "=================================================================\n",
            "xception (Functional)        (None, 10, 10, 2048)      20861480  \n",
            "_________________________________________________________________\n",
            "flatten (Flatten)            (None, 204800)            0         \n",
            "_________________________________________________________________\n",
            "dense (Dense)                (None, 2)                 409602    \n",
            "=================================================================\n",
            "Total params: 21,271,082\n",
            "Trainable params: 409,602\n",
            "Non-trainable params: 20,861,480\n",
            "_________________________________________________________________\n"
          ],
          "name": "stdout"
        }
      ]
    },
    {
      "cell_type": "markdown",
      "metadata": {
        "id": "giCRra3r4wTk"
      },
      "source": [
        "**Accuracy and Loss Graph**"
      ]
    },
    {
      "cell_type": "code",
      "metadata": {
        "id": "ltolJ5_i4MDZ",
        "colab": {
          "base_uri": "https://localhost:8080/",
          "height": 573
        },
        "outputId": "6e135ec2-0154-4583-aa6f-915382a33b13"
      },
      "source": [
        "import numpy as np\n",
        "import pandas as pd\n",
        "import matplotlib.pyplot as plt\n",
        "import seaborn as sns\n",
        "from sklearn.model_selection import train_test_split\n",
        "from keras.models import Sequential\n",
        "from keras.layers import Activation, Dense, Dropout\n",
        "from keras import optimizers\n",
        "from sklearn.metrics import confusion_matrix,accuracy_score, roc_curve, auc\n",
        "%matplotlib inline\n",
        "history = hist\n",
        "sns.set_style(\"whitegrid\")\n",
        "np.random.seed(697)\n",
        "accuracy = history.history['accuracy']\n",
        "val_accuracy = history.history['val_accuracy']\n",
        "loss = history.history['loss']\n",
        "val_loss = history.history['val_loss']\n",
        "epochs = range(len(accuracy))\n",
        "plt.figure()\n",
        "plt.plot(history.history['loss'])\n",
        "plt.plot(history.history['val_loss'])\n",
        "plt.title('model loss')\n",
        "plt.ylabel('loss')\n",
        "plt.xlabel('epoch')\n",
        "plt.legend(['train', 'test'], loc='upper right')\n",
        "plt.show()\n",
        "plt.figure()\n",
        "plt.plot(history.history['accuracy'])\n",
        "plt.plot(history.history['val_accuracy'])\n",
        "plt.title('model acc')\n",
        "plt.ylabel('accuracy')\n",
        "plt.xlabel('epoch')\n",
        "plt.legend(['train', 'test'], loc='upper left')\n",
        "plt.show()"
      ],
      "execution_count": null,
      "outputs": [
        {
          "output_type": "display_data",
          "data": {
            "image/png": "[encoded data removed]",
            "text/plain": [
              "<Figure size 432x288 with 1 Axes>"
            ]
          },
          "metadata": {
            "tags": []
          }
        },
        {
          "output_type": "display_data",
          "data": {
            "image/png": "[encoded data removed]",
            "text/plain": [
              "<Figure size 432x288 with 1 Axes>"
            ]
          },
          "metadata": {
            "tags": []
          }
        }
      ]
    },
    {
      "cell_type": "markdown",
      "metadata": {
        "id": "ojwn7Ptn45uM"
      },
      "source": [
        "**Confusion Matrix**"
      ]
    },
    {
      "cell_type": "code",
      "metadata": {
        "id": "7rlstDwx4NAV",
        "colab": {
          "base_uri": "https://localhost:8080/"
        },
        "outputId": "4fd13358-b717-4bf6-978b-cb27abd5aa6d"
      },
      "source": [
        "from sklearn.metrics import confusion_matrix\n",
        "import numpy\n",
        "pred= model.predict(validation_generator)\n",
        "# print(pred)\n",
        "pred = np.argmax(pred,axis=1)\n",
        "# print(pred)\n",
        "true_classes = validation_generator.classes\n",
        "cf = confusion_matrix(true_classes,pred)\n",
        "cf\n"
      ],
      "execution_count": null,
      "outputs": [
        {
          "output_type": "execute_result",
          "data": {
            "text/plain": [
              "array([[118,  51],\n",
              "       [ 51,  21]])"
            ]
          },
          "metadata": {
            "tags": []
          },
          "execution_count": 17
        }
      ]
    },
    {
      "cell_type": "markdown",
      "metadata": {
        "id": "y6r3Fesx5Rvx"
      },
      "source": [
        "**Confusion Matrix Image**"
      ]
    },
    {
      "cell_type": "code",
      "metadata": {
        "id": "5ji8mEoL4iQ5",
        "colab": {
          "base_uri": "https://localhost:8080/",
          "height": 369
        },
        "outputId": "4b81f4a3-312e-4eec-c579-42381e57b856"
      },
      "source": [
        "\n",
        "# Look at confusion matrix \n",
        "import itertools\n",
        "plt.rcParams['figure.figsize'] = (5, 5)\n",
        "def plot_confusion_matrix(cm, classes,\n",
        "                          normalize=False,\n",
        "                          title='Confusion matrix',\n",
        "                          cmap=plt.cm.Blues):\n",
        "    \n",
        "    \"\"\"\n",
        "    This function prints and plots the confusion matrix.\n",
        "    Normalization can be applied by setting `normalize=True`.\n",
        "    \"\"\"\n",
        "    plt.imshow(cm, interpolation='nearest', cmap=cmap)\n",
        "    plt.title(title)\n",
        "    plt.colorbar()\n",
        "    tick_marks = np.arange(len(classes))\n",
        "    plt.xticks(tick_marks, classes, rotation=45)\n",
        "    plt.yticks(tick_marks, classes)\n",
        "\n",
        "    if normalize:\n",
        "        cm = cm.astype('float') / cm.sum(axis=1)[:, np.newaxis]\n",
        "\n",
        "    thresh = cm.max() / 2.\n",
        "    for i, j in itertools.product(range(cm.shape[0]), range(cm.shape[1])):\n",
        "        plt.text(j, i, cm[i, j],\n",
        "                 horizontalalignment=\"center\",\n",
        "                 color=\"white\" if cm[i, j] > thresh else \"black\")\n",
        "\n",
        "    plt.tight_layout()\n",
        "    plt.ylabel('True label')\n",
        "    plt.xlabel('Predicted label')\n",
        "    plt.savefig('confusion_matricesfor61classbangengtype.png', dpi=100)\n",
        "\n",
        "\n",
        "plot_confusion_matrix(confusion_matrix(true_classes, pred) ,classes = range(2))"
      ],
      "execution_count": null,
      "outputs": [
        {
          "output_type": "display_data",
          "data": {
            "image/png": "[encoded data removed]",
            "text/plain": [
              "<Figure size 360x360 with 2 Axes>"
            ]
          },
          "metadata": {
            "tags": []
          }
        }
      ]
    },
    {
      "cell_type": "code",
      "metadata": {
        "id": "ZteEDNgrvdmI",
        "colab": {
          "base_uri": "https://localhost:8080/"
        },
        "outputId": "70b8baf0-9784-4bc4-de7b-96557fbde8fb"
      },
      "source": [
        "import sklearn.metrics as metrics\n",
        "# class_labels = list(validation_generator.class_indices.keys())  \n",
        "report = metrics.classification_report(true_classes, pred)\n",
        "print(report) "
      ],
      "execution_count": null,
      "outputs": [
        {
          "output_type": "stream",
          "text": [
            "              precision    recall  f1-score   support\n",
            "\n",
            "           0       0.70      0.70      0.70       169\n",
            "           1       0.29      0.29      0.29        72\n",
            "\n",
            "    accuracy                           0.58       241\n",
            "   macro avg       0.49      0.49      0.49       241\n",
            "weighted avg       0.58      0.58      0.58       241\n",
            "\n"
          ],
          "name": "stdout"
        }
      ]
    },
    {
      "cell_type": "code",
      "metadata": {
        "id": "FGZivSWzveb7"
      },
      "source": [
        ""
      ],
      "execution_count": null,
      "outputs": []
    }
  ]
}